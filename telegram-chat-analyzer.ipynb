{
 "cells": [
  {
   "cell_type": "markdown",
   "metadata": {},
   "source": [
    "# Telegram chat analisys"
   ]
  },
  {
   "cell_type": "markdown",
   "metadata": {},
   "source": [
    "This is a simple script to visualize your telegram chat behaviour such as number of messages per year/month or day, number of media files and most used stickers! I will add new features to this script as soon as possible. Please suggest your ideas to my telegram account: [@conficker](http://t.me/conficker)"
   ]
  },
  {
   "cell_type": "markdown",
   "metadata": {},
   "source": [
    "\n",
    "\n",
    "## How to use\n",
    "\n",
    "First of all you need to download your chat history using Telegram Export feature. You can find this feature in Telegram Desktop version 1.4 and later. \n",
    "\n",
    "Open chat dialog. At top right of page there is a 3-dot option. Open it and click on `Export chat history`. Currently there is no need to download any media file **Except** sticker option. Set destination folder and click on `Export` button. Wait until the process finishes. **Then copy this notebook on the directory which you selected for export destination.** Now just select **Restart & Run all** button from kernel menu!"
   ]
  },
  {
   "cell_type": "code",
   "execution_count": 1,
   "metadata": {},
   "outputs": [],
   "source": [
    "import sqlite3\n",
    "import datetime\n",
    "import glob\n",
    "import re\n",
    "import os\n",
    "import jdatetime\n",
    "import pandas as pd\n",
    "import numpy as np\n",
    "import seaborn as sns\n",
    "import matplotlib.pyplot as plt\n",
    "import matplotlib.cm as cm\n",
    "\n",
    "from bs4 import BeautifulSoup\n",
    "from natsort import natsorted\n",
    "from PIL import Image\n",
    "\n",
    "%matplotlib inline"
   ]
  },
  {
   "cell_type": "markdown",
   "metadata": {},
   "source": [
    "**Note**: This function extracts data from html pages that downloaded by telegram. There is no need to edit this function :)"
   ]
  },
  {
   "cell_type": "code",
   "execution_count": 2,
   "metadata": {},
   "outputs": [],
   "source": [
    "def extract(message, last_out=False, forward=False):\n",
    "    global DIALOG_NAME\n",
    "    text, date, out,reply,id_,fwded = [None]*6\n",
    "\n",
    "    try:\n",
    "        out  = message.find('div',{'class':'from_name'}).text.strip() != DIALOG_NAME\n",
    "    except: # continious PMs\n",
    "        out = last_out\n",
    "    \n",
    "    body = message.find('div',class_='body')\n",
    "    \n",
    "    tmp = body.findChildren('div',recursive=False)\n",
    "\n",
    "    if tmp:        \n",
    "        last_class = tmp[-1].attrs['class']\n",
    "    \n",
    "        if 'text' in last_class:\n",
    "            text = body.find('div',{'class':'text'}).text.strip()\n",
    "\n",
    "        elif 'media_wrap' in last_class:\n",
    "\n",
    "            media_type = body.find('div',class_='media_wrap').findChildren(re.compile('a|div'),recursive=False)[-1].attrs['class']\n",
    "\n",
    "            if 'sticker_wrap' in media_type:\n",
    "                text = body.find('img',{'class':'sticker'}).attrs['src']\n",
    "            elif 'media_photo' in media_type or 'media_video' in media_type or 'media_file' in media_type or 'media_audio_file' in media_type or 'media_voice_message' in media_type or 'media_call' in media_type or 'media_location' in media_type or 'media_contact' in media_type:\n",
    "                text = \"${}$\".format(media_type[-1])\n",
    "            else:\n",
    "                raise ValueError(\"%d %s\"%(i,str(media_type)))\n",
    "\n",
    "        elif 'forwarded' in last_class:         \n",
    "            if not forward:            \n",
    "                text,*_ =  extract(body,forward=True).values()\n",
    "                fwded = True\n",
    "                \n",
    "        else:\n",
    "            raise ValueError(last_class)\n",
    "        \n",
    "        try:\n",
    "            reply = body.find('div',{'class':'reply_to'}).find('a').attrs['href']\n",
    "        except:\n",
    "            pass\n",
    "        \n",
    "        try:\n",
    "            date = message.find('div',{'class':'date'}).attrs.get('title')    \n",
    "        except:\n",
    "            pass\n",
    "\n",
    "    try:\n",
    "        id_ = int(''.join(filter(str.isdigit, message.attrs.get('id'))))\n",
    "    except:\n",
    "        pass\n",
    "\n",
    "    if reply:\n",
    "        reply = int(''.join(filter(str.isdigit, reply)))\n",
    "\n",
    "    return {'text':text,'date':date,'out':out, 'id':id_,'reply':reply,'forward':fwded}"
   ]
  },
  {
   "cell_type": "markdown",
   "metadata": {},
   "source": [
    "Here we insert data collected from pages to a sqlite database. If you want keep the order of messages use `natsort` module to sort pages ascendly. "
   ]
  },
  {
   "cell_type": "code",
   "execution_count": 3,
   "metadata": {},
   "outputs": [],
   "source": [
    "# if os.path.isfile('messages.html'):\n",
    "#     os.rename('messages.html','messages1.html')\n",
    "    \n",
    "# files = natsorted(glob.glob('messages[0-9]*.html'))\n",
    "# last_out= False\n",
    "\n",
    "# with sqlite3.connect('db.sqlite3') as conn:\n",
    "#     cursor = conn.cursor()    \n",
    "#     try:\n",
    "#         cursor.execute('CREATE TABLE `chats` ( `id` INTEGER, `out` INTEGER, `text` TEXT, `date` TEXT, `reply` INTEGER, `forward` INTEGER );')\n",
    "#     except sqlite3.OperationalError:\n",
    "#         cursor.execute('DELETE FROM `chats`')\n",
    "    \n",
    "#     for j, file in enumerate(files,1):\n",
    "#         with open(file) as page:\n",
    "#             soup = BeautifulSoup(page,'lxml')\n",
    "#             DIALOG_NAME = soup.find('div',{'class':'page_header'}).text.strip()            \n",
    "#             history = soup.find_all('div',{'class':'history'})[0]\n",
    "#             messages = history.find_all('div',{'class':['message','default','clearfix'],'id':re.compile('message\\d+')})                \n",
    "#             for i, message in enumerate(messages):\n",
    "#                 ex = extract(message,last_out)\n",
    "#                 text,date, out,msg_id,reply,fwd = ex.values()            \n",
    "#                 last_out = out\n",
    "#                 cursor.execute('INSERT INTO `chats` VALUES(?,?,?,?,?,?)',(msg_id,out,text,date,reply,fwd))\n",
    "    \n",
    "#     conn.commit()"
   ]
  },
  {
   "cell_type": "code",
   "execution_count": null,
   "metadata": {},
   "outputs": [],
   "source": [
    "with sqlite3.connect('db.sqlite3') as conn:\n",
    "    df = pd.read_sql_query(\"SELECT date FROM chats\", conn)"
   ]
  },
  {
   "cell_type": "code",
   "execution_count": null,
   "metadata": {},
   "outputs": [],
   "source": [
    "df['date'] = pd.to_datetime(df['date'], format='%d.%m.%Y %H:%M:%S').astype(\"datetime64\")"
   ]
  },
  {
   "cell_type": "code",
   "execution_count": null,
   "metadata": {},
   "outputs": [],
   "source": [
    "days,months,years = [],[],[]\n",
    "\n",
    "# todo: make this one line!\n",
    "for d in df['date']:\n",
    "    _date = jdatetime.date.fromgregorian(day=d.day,month=d.month,year=d.year)\n",
    "    days.append(int(_date.day))\n",
    "    months.append(int(_date.month))\n",
    "    years.append(int(_date.year))\n"
   ]
  },
  {
   "cell_type": "code",
   "execution_count": null,
   "metadata": {},
   "outputs": [],
   "source": [
    "df['day'],df['month'],df['year'] = days, months, years\n",
    "df['time'] = [d.time() for d in df['date']] \n",
    "df['time'] = pd.to_datetime(df['time'], format='%H:%M:%S')"
   ]
  },
  {
   "cell_type": "code",
   "execution_count": null,
   "metadata": {},
   "outputs": [],
   "source": [
    "df.drop('date',inplace=True, axis=1)"
   ]
  },
  {
   "cell_type": "code",
   "execution_count": null,
   "metadata": {},
   "outputs": [],
   "source": [
    "counts =  df.groupby(df['year'])['year'].count()\n",
    "total_chats = int(counts.sum())\n",
    "\n",
    "print('Total number of messages is %d' %total_chats)"
   ]
  },
  {
   "cell_type": "code",
   "execution_count": null,
   "metadata": {},
   "outputs": [],
   "source": [
    "fig, (ax1,ax2) = plt.subplots(1,2,figsize=(15,7))\n",
    "\n",
    "counts['year-percentage'] = counts.apply(lambda x:100*x/total_chats)\n",
    "counts['year-percentage'].plot(kind=\"pie\",legend=False,ax=ax1, autopct=lambda x:round(x,2))\n",
    "ax1.set_title('% of chats per year')\n",
    "\n",
    "counts =  df.groupby(df['month']).count()\n",
    "counts['day'].plot(kind=\"bar\",legend=False,ax=ax2, width=.9)\n",
    "ax2.set_title('# of chats per month')\n",
    "\n",
    "print()"
   ]
  },
  {
   "cell_type": "code",
   "execution_count": null,
   "metadata": {},
   "outputs": [],
   "source": [
    "counts =  df.groupby(df['time'].dt.hour)['time'].count()\n",
    "colors = cm.viridis(np.linspace(0,1,12)).tolist()\n",
    "colors = colors + colors[::-1]\n",
    "ax = counts.plot(kind=\"bar\",legend=False,figsize=(19,8),width=.9,color=colors)\n",
    "x_offset,y_offset = -0.33,5 # change y-offset if it has bad visualization\n",
    "\n",
    "ax.set_title('# of chats per hour')\n",
    "ax.set_xlabel('Hour')\n",
    "\n",
    "for p in ax.patches:\n",
    "    b = p.get_bbox()\n",
    "    ax.annotate(\"{:.2%}\".format((b.y1 + b.y0)/total_chats), ((b.x0 + b.x1)/2 + x_offset, b.y1 + y_offset))\n"
   ]
  },
  {
   "cell_type": "code",
   "execution_count": null,
   "metadata": {},
   "outputs": [],
   "source": [
    "f,ax = plt.subplots(1,1,figsize=(10, 5))\n",
    "every_n_hours = 6\n",
    "x = list(range(24//every_n_hours))\n",
    "y = [0]*24\n",
    "\n",
    "for i in counts.index:\n",
    "    y[i] = counts.at[i]\n",
    "\n",
    "y = [sum(y[i:i+every_n_hours]) for i in range(0,25-every_n_hours,every_n_hours)]\n",
    "sns.barplot(x,y,palette='rainbow',ax=ax)\n",
    "ax.set_title('# of chats grouped every %d hour(s)'%every_n_hours)\n",
    "tmp = ax.set_xticklabels(['%02d:00-%02d:59'%(i,i+every_n_hours-1) for i in range(0,25-every_n_hours,every_n_hours)])"
   ]
  },
  {
   "cell_type": "code",
   "execution_count": null,
   "metadata": {},
   "outputs": [],
   "source": [
    "with sqlite3.connect('db.sqlite3') as conn:\n",
    "    df = pd.read_sql_query(\"select text as media from chats where text like '$media_%' \", conn)\n",
    "\n",
    "    df['media'] = df['media'].apply(lambda x:x.strip('$')[6:].replace('_',' '))\n",
    "    df = df.groupby('media').size().reset_index(name='count')\n",
    "    df['count'].plot(kind='pie',labels=df['media'],figsize=(7,7),colormap='PuRd_r',autopct=lambda x:round(x,1))"
   ]
  },
  {
   "cell_type": "code",
   "execution_count": null,
   "metadata": {},
   "outputs": [],
   "source": [
    "with sqlite3.connect('db.sqlite3') as conn:\n",
    "    df = pd.read_sql_query(\"select text as sticker from chats where text like 'stickers/sticker%' \", conn)"
   ]
  },
  {
   "cell_type": "code",
   "execution_count": null,
   "metadata": {},
   "outputs": [],
   "source": [
    "df['sticker_name'] = df['sticker'].apply(lambda x:x[:x.index('_')])\n",
    "\n",
    "df_new = df.groupby('sticker_name').size().reset_index(name='count')\n",
    "\n",
    "df_new = df_new.sort_values('count', ascending=False)\n",
    "total_stickers = df_new['count'].sum()"
   ]
  },
  {
   "cell_type": "code",
   "execution_count": null,
   "metadata": {},
   "outputs": [],
   "source": [
    "n_max = 6\n",
    "sticker_counts = list(df_new.iloc[:n_max,1])\n",
    "imgs = [df[df['sticker_name'] == img]['sticker'].iloc[0] for img in df_new.iloc[:n_max,0]] #\n",
    "\n",
    "n_row = int(n_max**.5)\n",
    "n_col = n_max//n_row\n",
    "fig=plt.figure(figsize=(2*n_max,2*n_max))\n",
    "n_row +=1\n",
    "fig.suptitle('# of %d  most used stickers'%n_max)\n",
    "for i,img in enumerate(imgs,1):    \n",
    "    ax = Image.open(img)\n",
    "#     ax = ax.crop(ax.getbbox())\n",
    "    axs = fig.add_subplot(n_row,n_col, i)\n",
    "    axs.axis('off')\n",
    "#     axs.set_xlim(300)    \n",
    "    axs.set_title(str(sticker_counts[i-1]))\n",
    "    axs.imshow(np.asarray(ax))"
   ]
  },
  {
   "cell_type": "code",
   "execution_count": null,
   "metadata": {},
   "outputs": [],
   "source": [
    "f,(ax1,ax2) = plt.subplots(1,2)\n",
    "\n",
    "with sqlite3.connect('db.sqlite3') as conn:\n",
    "    my_messages = int(conn.execute(\"select count(out) as count from chats where out = '1'\").fetchone()[0])\n",
    "    \n",
    "    df = pd.DataFrame([my_messages,total_chats-my_messages], index=['my messages','MMSH'])\n",
    "    \n",
    "    df.plot(kind='pie',subplots=True,autopct=lambda x:round(x,2),legend=False,ax=ax1)\n",
    "\n",
    "with sqlite3.connect('db.sqlite3') as conn:\n",
    "    my_stickers = int(conn.execute(\"select count(out) as count from chats where out = '1' and text like 'stickers/sticker%'\").fetchone()[0])\n",
    "    \n",
    "    df = pd.DataFrame([my_stickers,total_stickers-my_stickers], index=['my stickers','MMSH'])\n",
    "    \n",
    "    df.plot(kind='pie',subplots=True,autopct=lambda x:round(x,2),legend=False,ax=ax2)"
   ]
  },
  {
   "cell_type": "code",
   "execution_count": null,
   "metadata": {},
   "outputs": [],
   "source": []
  }
 ],
 "metadata": {
  "kernelspec": {
   "display_name": "Python 3",
   "language": "python",
   "name": "python3"
  },
  "language_info": {
   "codemirror_mode": {
    "name": "ipython",
    "version": 3
   },
   "file_extension": ".py",
   "mimetype": "text/x-python",
   "name": "python",
   "nbconvert_exporter": "python",
   "pygments_lexer": "ipython3",
   "version": "3.6.7rc1"
  }
 },
 "nbformat": 4,
 "nbformat_minor": 2
}
